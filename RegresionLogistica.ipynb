{
  "nbformat": 4,
  "nbformat_minor": 0,
  "metadata": {
    "colab": {
      "provenance": [],
      "name": "RegresionLogistica.ipynb",
      "authorship_tag": "ABX9TyPIigorAArCuigdaeaGid1U",
      "include_colab_link": true
    },
    "kernelspec": {
      "name": "python3",
      "display_name": "Python 3"
    },
    "language_info": {
      "name": "python"
    }
  },
  "cells": [
    {
      "cell_type": "markdown",
      "metadata": {
        "id": "view-in-github",
        "colab_type": "text"
      },
      "source": [
        "<a href=\"https://colab.research.google.com/github/HeidyRemache/DataMining/blob/main/RegresionLogistica.ipynb\" target=\"_parent\"><img src=\"https://colab.research.google.com/assets/colab-badge.svg\" alt=\"Open In Colab\"/></a>"
      ]
    },
    {
      "cell_type": "code",
      "execution_count": null,
      "metadata": {
        "id": "ekblPVZpaLWN"
      },
      "outputs": [],
      "source": [
        "import pandas as pd\n",
        "import seaborn as sns\n",
        "import matplotlib.pyplot as plt\n",
        "from sklearn.model_selection import train_test_split\n",
        "from sklearn.linear_model import LogisticRegression\n",
        "from sklearn.metrics import accuracy_score, confusion_matrix"
      ]
    },
    {
      "cell_type": "code",
      "source": [
        "url = \"https://raw.githubusercontent.com/jbrownlee/Datasets/master/pima-indians-diabetes.data.csv\"\n",
        "columnas = ['Embarazos', 'Glucosa', 'PresionSanguinea', 'EspesorPiel', 'Insulina', 'IMC', 'IndiceDiabetes', 'Edad', 'Resultado']\n",
        "data = pd.read_csv(url, names=columnas)"
      ],
      "metadata": {
        "id": "gxPWpL5PaSNB"
      },
      "execution_count": null,
      "outputs": []
    },
    {
      "cell_type": "code",
      "source": [
        "print(data.head())"
      ],
      "metadata": {
        "id": "rpR6NhEAaVEn"
      },
      "execution_count": null,
      "outputs": []
    },
    {
      "cell_type": "code",
      "source": [
        "sns.pairplot(data, hue=\"Resultado\")\n",
        "plt.show()"
      ],
      "metadata": {
        "id": "2SsmbtYZaath"
      },
      "execution_count": null,
      "outputs": []
    }
  ]
}