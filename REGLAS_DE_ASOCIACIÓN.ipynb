{
  "nbformat": 4,
  "nbformat_minor": 0,
  "metadata": {
    "colab": {
      "provenance": [],
      "authorship_tag": "ABX9TyOY6Nuy+e1Yf0U8jWCchuAs",
      "include_colab_link": true
    },
    "kernelspec": {
      "name": "python3",
      "display_name": "Python 3"
    },
    "language_info": {
      "name": "python"
    }
  },
  "cells": [
    {
      "cell_type": "markdown",
      "metadata": {
        "id": "view-in-github",
        "colab_type": "text"
      },
      "source": [
        "<a href=\"https://colab.research.google.com/github/HeidyRemache/DataMining/blob/main/REGLAS_DE_ASOCIACI%C3%93N.ipynb\" target=\"_parent\"><img src=\"https://colab.research.google.com/assets/colab-badge.svg\" alt=\"Open In Colab\"/></a>"
      ]
    },
    {
      "cell_type": "markdown",
      "metadata": {
        "id": "zXqaifz8FkaZ"
      },
      "source": [
        "## Librería"
      ]
    },
    {
      "cell_type": "code",
      "source": [
        "!pip install efficient-apriori"
      ],
      "metadata": {
        "colab": {
          "base_uri": "https://localhost:8080/"
        },
        "id": "cd5uf7PKBfYd",
        "outputId": "19108b54-f3f2-482f-8200-167dd96f46f6"
      },
      "execution_count": null,
      "outputs": [
        {
          "output_type": "stream",
          "name": "stdout",
          "text": [
            "Collecting efficient-apriori\n",
            "  Downloading efficient_apriori-2.0.3-py3-none-any.whl (14 kB)\n",
            "Installing collected packages: efficient-apriori\n",
            "Successfully installed efficient-apriori-2.0.3\n"
          ]
        }
      ]
    },
    {
      "cell_type": "code",
      "source": [
        "from efficient_apriori import apriori"
      ],
      "metadata": {
        "id": "qOL3mltQBqs2"
      },
      "execution_count": null,
      "outputs": []
    }
  ]
}