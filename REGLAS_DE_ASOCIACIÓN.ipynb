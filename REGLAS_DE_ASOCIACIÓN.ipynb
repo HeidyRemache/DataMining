{
  "nbformat": 4,
  "nbformat_minor": 0,
  "metadata": {
    "colab": {
      "provenance": [],
      "include_colab_link": true
    },
    "kernelspec": {
      "name": "python3",
      "display_name": "Python 3"
    },
    "language_info": {
      "name": "python"
    }
  },
  "cells": [
    {
      "cell_type": "markdown",
      "metadata": {
        "id": "view-in-github",
        "colab_type": "text"
      },
      "source": [
        "<a href=\"https://colab.research.google.com/github/HeidyRemache/DataMining/blob/main/REGLAS_DE_ASOCIACI%C3%93N.ipynb\" target=\"_parent\"><img src=\"https://colab.research.google.com/assets/colab-badge.svg\" alt=\"Open In Colab\"/></a>"
      ]
    },
    {
      "cell_type": "markdown",
      "metadata": {
        "id": "zXqaifz8FkaZ"
      },
      "source": [
        "## Librería"
      ]
    },
    {
      "cell_type": "code",
      "source": [
        "!pip install efficient-apriori"
      ],
      "metadata": {
        "colab": {
          "base_uri": "https://localhost:8080/"
        },
        "id": "cd5uf7PKBfYd",
        "outputId": "4f09a2cc-c202-4524-9a19-eead3861aa83"
      },
      "execution_count": null,
      "outputs": [
        {
          "output_type": "stream",
          "name": "stdout",
          "text": [
            "Collecting efficient-apriori\n",
            "  Downloading efficient_apriori-2.0.5-py3-none-any.whl.metadata (6.7 kB)\n",
            "Downloading efficient_apriori-2.0.5-py3-none-any.whl (14 kB)\n",
            "Installing collected packages: efficient-apriori\n",
            "Successfully installed efficient-apriori-2.0.5\n"
          ]
        }
      ]
    },
    {
      "cell_type": "code",
      "source": [
        "from efficient_apriori import apriori"
      ],
      "metadata": {
        "id": "qOL3mltQBqs2"
      },
      "execution_count": null,
      "outputs": []
    },
    {
      "cell_type": "markdown",
      "source": [
        "# Transacciones"
      ],
      "metadata": {
        "id": "-BlecZa_Oxbs"
      }
    },
    {
      "cell_type": "code",
      "source": [
        "transacciones = [(\"pantalón\", \"camiseta\", \"medias\"),\n",
        "                 (\"corbata\", \"pantalón\", \"cinturón\", \"medias\"),\n",
        "                 (\"pantalón\", \"cinturón\", \"camiseta\", \"medias\"),\n",
        "                 (\"cinturón\", \"corbata\"),\n",
        "                 (\"medias\", \"corbata\"),\n",
        "                 (\"camiseta\", \"pantalón\"),\n",
        "                 (\"pantalón\", \"medias\", \"camiseta\"),\n",
        "                 (\"medias\", \"pantalón\", \"camiseta\")]\n",
        "\n",
        "conjuntos, reglas = apriori(transacciones,\n",
        "                            min_support = 0.6,\n",
        "                            min_confidence = 0.6)\n",
        "\n",
        "reglas = filter(lambda regla: len(regla.rhs)==1, reglas)\n",
        "\n",
        "for regla in reglas:\n",
        "  print(regla)"
      ],
      "metadata": {
        "id": "RA-EaG0IMSoB",
        "outputId": "4127516c-0254-4041-e85b-d16fdc8dd269",
        "colab": {
          "base_uri": "https://localhost:8080/"
        }
      },
      "execution_count": null,
      "outputs": [
        {
          "output_type": "stream",
          "name": "stdout",
          "text": [
            "{pantalón} -> {camiseta} (conf: 0.833, supp: 0.625, lift: 1.333, conv: 2.250)\n",
            "{camiseta} -> {pantalón} (conf: 1.000, supp: 0.625, lift: 1.333, conv: 250000000.000)\n",
            "{pantalón} -> {medias} (conf: 0.833, supp: 0.625, lift: 1.111, conv: 1.500)\n",
            "{medias} -> {pantalón} (conf: 0.833, supp: 0.625, lift: 1.111, conv: 1.500)\n"
          ]
        }
      ]
    }
  ]
}