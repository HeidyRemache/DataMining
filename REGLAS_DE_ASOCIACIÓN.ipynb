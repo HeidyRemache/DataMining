{
  "nbformat": 4,
  "nbformat_minor": 0,
  "metadata": {
    "colab": {
      "provenance": [],
      "include_colab_link": true
    },
    "kernelspec": {
      "name": "python3",
      "display_name": "Python 3"
    },
    "language_info": {
      "name": "python"
    }
  },
  "cells": [
    {
      "cell_type": "markdown",
      "metadata": {
        "id": "view-in-github",
        "colab_type": "text"
      },
      "source": [
        "<a href=\"https://colab.research.google.com/github/HeidyRemache/DataMining/blob/main/REGLAS_DE_ASOCIACI%C3%93N.ipynb\" target=\"_parent\"><img src=\"https://colab.research.google.com/assets/colab-badge.svg\" alt=\"Open In Colab\"/></a>"
      ]
    },
    {
      "cell_type": "markdown",
      "metadata": {
        "id": "zXqaifz8FkaZ"
      },
      "source": [
        "## Librería"
      ]
    },
    {
      "cell_type": "code",
      "source": [
        "!pip install efficient-apriori"
      ],
      "metadata": {
        "colab": {
          "base_uri": "https://localhost:8080/"
        },
        "id": "cd5uf7PKBfYd",
        "outputId": "021a818f-a983-4eb3-ff4e-a33c5be19106"
      },
      "execution_count": 1,
      "outputs": [
        {
          "output_type": "stream",
          "name": "stdout",
          "text": [
            "Collecting efficient-apriori\n",
            "  Downloading efficient_apriori-2.0.5-py3-none-any.whl.metadata (6.7 kB)\n",
            "Downloading efficient_apriori-2.0.5-py3-none-any.whl (14 kB)\n",
            "Installing collected packages: efficient-apriori\n",
            "Successfully installed efficient-apriori-2.0.5\n"
          ]
        }
      ]
    },
    {
      "cell_type": "code",
      "source": [
        "from efficient_apriori import apriori"
      ],
      "metadata": {
        "id": "qOL3mltQBqs2"
      },
      "execution_count": 2,
      "outputs": []
    },
    {
      "cell_type": "code",
      "source": [
        "transacciones=[(\"Ciencia Ficción\", \"Fantasía\", \"Aventura\"),\n",
        "               (\"Ciencia Ficción\",\"Misterio\", \"Suspense\", \"Romance\"),\n",
        "               (\"Ciencia Ficción\", \"Hardcor\",\"Aventura\"),\n",
        "               (\"Ciencia Ficción\",\"Fantasía\", \"Aventura\", \"Romance\"),\n",
        "               (\"Ciencia Ficción\",\"Misterio\", \"Thriller\"),\n",
        "               (\"Ciencia Ficción\", \"Romance\", \"Aventura\"),\n",
        "               (\"Ciencia Ficción\",\"Romance\", \"Drama\",\"Aventura\",\"Aventura\")]"
      ],
      "metadata": {
        "id": "RA-EaG0IMSoB"
      },
      "execution_count": 3,
      "outputs": []
    },
    {
      "cell_type": "code",
      "source": [
        "conjunto, reglas = apriori(transacciones,\n",
        "                           min_support = 0.6,\n",
        "                           min_confidence = 0.9)"
      ],
      "metadata": {
        "id": "R5SLTTUpMkZC"
      },
      "execution_count": 4,
      "outputs": []
    },
    {
      "cell_type": "code",
      "source": [
        "reglas = filter(lambda regla: len(regla.rhs)==1,reglas)"
      ],
      "metadata": {
        "id": "uvDKMY7nMnl5"
      },
      "execution_count": 5,
      "outputs": []
    },
    {
      "cell_type": "code",
      "source": [
        "for regla in reglas:\n",
        "  print(regla)"
      ],
      "metadata": {
        "id": "HsLtr4wlNpyL",
        "outputId": "59644ebd-a11f-4e2f-da83-df9dde0e7762",
        "colab": {
          "base_uri": "https://localhost:8080/"
        }
      },
      "execution_count": 6,
      "outputs": [
        {
          "output_type": "stream",
          "name": "stdout",
          "text": [
            "{Aventura} -> {Ciencia Ficción} (conf: 1.000, supp: 0.714, lift: 1.000, conv: 0.000)\n"
          ]
        }
      ]
    }
  ]
}
