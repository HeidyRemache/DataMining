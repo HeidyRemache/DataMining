{
  "nbformat": 4,
  "nbformat_minor": 0,
  "metadata": {
    "colab": {
      "provenance": [],
      "include_colab_link": true
    },
    "kernelspec": {
      "name": "python3",
      "display_name": "Python 3"
    },
    "language_info": {
      "name": "python"
    }
  },
  "cells": [
    {
      "cell_type": "markdown",
      "metadata": {
        "id": "view-in-github",
        "colab_type": "text"
      },
      "source": [
        "<a href=\"https://colab.research.google.com/github/HeidyRemache/DataMining/blob/main/CLUSTERS.ipynb\" target=\"_parent\"><img src=\"https://colab.research.google.com/assets/colab-badge.svg\" alt=\"Open In Colab\"/></a>"
      ]
    },
    {
      "cell_type": "markdown",
      "source": [
        "**PRACTICA DE CLUSTERS**"
      ],
      "metadata": {
        "id": "vngzD-GqDTUx"
      }
    },
    {
      "cell_type": "code",
      "execution_count": null,
      "metadata": {
        "id": "Fpbe2nbWDNHw"
      },
      "outputs": [],
      "source": [
        "import pandas as pd\n",
        "import numpy as np\n",
        "import matplotlib.pyplot as plt\n",
        "from sklearn.cluster import DBSCAN\n",
        "\n",
        "url='https://raw.githubusercontent.com/Joe7666/BaseDeDatos_Calderon/main/casas.csv'\n",
        "datos=np.loadtxt(url,delimiter=\",\")\n",
        "\n",
        "clusters=DBSCAN(eps=2, min_samples = 10).fit_predict(datos)\n",
        "print(clusters)\n",
        "\n"
      ]
    }
  ]
}